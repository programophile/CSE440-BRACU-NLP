{
 "cells": [
  {
   "cell_type": "markdown",
   "id": "b3133415",
   "metadata": {
    "id": "eAugXqmVgyqU",
    "papermill": {
     "duration": 0.005619,
     "end_time": "2025-01-13T00:43:35.672195",
     "exception": false,
     "start_time": "2025-01-13T00:43:35.666576",
     "status": "completed"
    },
    "tags": []
   },
   "source": [
    "#envioronment Setup\n"
   ]
  },
  {
   "cell_type": "code",
   "execution_count": 1,
   "id": "30043252",
   "metadata": {
    "execution": {
     "iopub.execute_input": "2025-01-13T00:43:35.683708Z",
     "iopub.status.busy": "2025-01-13T00:43:35.683283Z",
     "iopub.status.idle": "2025-01-13T00:44:01.213539Z",
     "shell.execute_reply": "2025-01-13T00:44:01.212428Z"
    },
    "executionInfo": {
     "elapsed": 8262,
     "status": "ok",
     "timestamp": 1735311125543,
     "user": {
      "displayName": "SAD YEAMIN SAYEM",
      "userId": "07841245779183727852"
     },
     "user_tz": -360
    },
    "id": "OdEPl1Vbg2tI",
    "outputId": "e0a0a62b-0e8f-4e87-933f-0228df0bff65",
    "papermill": {
     "duration": 25.537968,
     "end_time": "2025-01-13T00:44:01.215280",
     "exception": false,
     "start_time": "2025-01-13T00:43:35.677312",
     "status": "completed"
    },
    "tags": []
   },
   "outputs": [
    {
     "name": "stdout",
     "output_type": "stream",
     "text": [
      "Requirement already satisfied: nltk in /usr/local/lib/python3.10/dist-packages (3.2.4)\r\n",
      "Requirement already satisfied: six in /usr/local/lib/python3.10/dist-packages (from nltk) (1.16.0)\r\n",
      "[nltk_data] Downloading package nps_chat to /usr/share/nltk_data...\n",
      "[nltk_data]   Package nps_chat is already up-to-date!\n",
      "[nltk_data] Downloading collection 'all'\n",
      "[nltk_data]    | \n",
      "[nltk_data]    | Downloading package abc to /usr/share/nltk_data...\n",
      "[nltk_data]    |   Package abc is already up-to-date!\n",
      "[nltk_data]    | Downloading package alpino to /usr/share/nltk_data...\n",
      "[nltk_data]    |   Package alpino is already up-to-date!\n",
      "[nltk_data]    | Downloading package averaged_perceptron_tagger to\n",
      "[nltk_data]    |     /usr/share/nltk_data...\n",
      "[nltk_data]    |   Package averaged_perceptron_tagger is already up-\n",
      "[nltk_data]    |       to-date!\n",
      "[nltk_data]    | Downloading package averaged_perceptron_tagger_eng to\n",
      "[nltk_data]    |     /usr/share/nltk_data...\n",
      "[nltk_data]    |   Unzipping\n",
      "[nltk_data]    |       taggers/averaged_perceptron_tagger_eng.zip.\n",
      "[nltk_data]    | Downloading package averaged_perceptron_tagger_ru to\n",
      "[nltk_data]    |     /usr/share/nltk_data...\n",
      "[nltk_data]    |   Unzipping\n",
      "[nltk_data]    |       taggers/averaged_perceptron_tagger_ru.zip.\n",
      "[nltk_data]    | Downloading package averaged_perceptron_tagger_rus to\n",
      "[nltk_data]    |     /usr/share/nltk_data...\n",
      "[nltk_data]    |   Unzipping\n",
      "[nltk_data]    |       taggers/averaged_perceptron_tagger_rus.zip.\n",
      "[nltk_data]    | Downloading package basque_grammars to\n",
      "[nltk_data]    |     /usr/share/nltk_data...\n",
      "[nltk_data]    |   Package basque_grammars is already up-to-date!\n",
      "[nltk_data]    | Downloading package bcp47 to /usr/share/nltk_data...\n",
      "[nltk_data]    | Downloading package biocreative_ppi to\n",
      "[nltk_data]    |     /usr/share/nltk_data...\n",
      "[nltk_data]    |   Package biocreative_ppi is already up-to-date!\n",
      "[nltk_data]    | Downloading package bllip_wsj_no_aux to\n",
      "[nltk_data]    |     /usr/share/nltk_data...\n",
      "[nltk_data]    |   Package bllip_wsj_no_aux is already up-to-date!\n",
      "[nltk_data]    | Downloading package book_grammars to\n",
      "[nltk_data]    |     /usr/share/nltk_data...\n",
      "[nltk_data]    |   Package book_grammars is already up-to-date!\n",
      "[nltk_data]    | Downloading package brown to /usr/share/nltk_data...\n",
      "[nltk_data]    |   Package brown is already up-to-date!\n",
      "[nltk_data]    | Downloading package brown_tei to\n",
      "[nltk_data]    |     /usr/share/nltk_data...\n",
      "[nltk_data]    |   Package brown_tei is already up-to-date!\n",
      "[nltk_data]    | Downloading package cess_cat to\n",
      "[nltk_data]    |     /usr/share/nltk_data...\n",
      "[nltk_data]    |   Package cess_cat is already up-to-date!\n",
      "[nltk_data]    | Downloading package cess_esp to\n",
      "[nltk_data]    |     /usr/share/nltk_data...\n",
      "[nltk_data]    |   Package cess_esp is already up-to-date!\n",
      "[nltk_data]    | Downloading package chat80 to /usr/share/nltk_data...\n",
      "[nltk_data]    |   Package chat80 is already up-to-date!\n",
      "[nltk_data]    | Downloading package city_database to\n",
      "[nltk_data]    |     /usr/share/nltk_data...\n",
      "[nltk_data]    |   Package city_database is already up-to-date!\n",
      "[nltk_data]    | Downloading package cmudict to\n",
      "[nltk_data]    |     /usr/share/nltk_data...\n",
      "[nltk_data]    |   Package cmudict is already up-to-date!\n",
      "[nltk_data]    | Downloading package comparative_sentences to\n",
      "[nltk_data]    |     /usr/share/nltk_data...\n",
      "[nltk_data]    |   Unzipping corpora/comparative_sentences.zip.\n",
      "[nltk_data]    | Downloading package comtrans to\n",
      "[nltk_data]    |     /usr/share/nltk_data...\n",
      "[nltk_data]    |   Package comtrans is already up-to-date!\n",
      "[nltk_data]    | Downloading package conll2000 to\n",
      "[nltk_data]    |     /usr/share/nltk_data...\n",
      "[nltk_data]    |   Package conll2000 is already up-to-date!\n",
      "[nltk_data]    | Downloading package conll2002 to\n",
      "[nltk_data]    |     /usr/share/nltk_data...\n",
      "[nltk_data]    |   Package conll2002 is already up-to-date!\n",
      "[nltk_data]    | Downloading package conll2007 to\n",
      "[nltk_data]    |     /usr/share/nltk_data...\n",
      "[nltk_data]    |   Package conll2007 is already up-to-date!\n",
      "[nltk_data]    | Downloading package crubadan to\n",
      "[nltk_data]    |     /usr/share/nltk_data...\n",
      "[nltk_data]    |   Package crubadan is already up-to-date!\n",
      "[nltk_data]    | Downloading package dependency_treebank to\n",
      "[nltk_data]    |     /usr/share/nltk_data...\n",
      "[nltk_data]    |   Package dependency_treebank is already up-to-date!\n",
      "[nltk_data]    | Downloading package dolch to /usr/share/nltk_data...\n",
      "[nltk_data]    |   Unzipping corpora/dolch.zip.\n",
      "[nltk_data]    | Downloading package europarl_raw to\n",
      "[nltk_data]    |     /usr/share/nltk_data...\n",
      "[nltk_data]    |   Package europarl_raw is already up-to-date!\n",
      "[nltk_data]    | Downloading package extended_omw to\n",
      "[nltk_data]    |     /usr/share/nltk_data...\n",
      "[nltk_data]    | Downloading package floresta to\n",
      "[nltk_data]    |     /usr/share/nltk_data...\n",
      "[nltk_data]    |   Package floresta is already up-to-date!\n",
      "[nltk_data]    | Downloading package framenet_v15 to\n",
      "[nltk_data]    |     /usr/share/nltk_data...\n",
      "[nltk_data]    |   Unzipping corpora/framenet_v15.zip.\n",
      "[nltk_data]    | Downloading package framenet_v17 to\n",
      "[nltk_data]    |     /usr/share/nltk_data...\n",
      "[nltk_data]    |   Unzipping corpora/framenet_v17.zip.\n",
      "[nltk_data]    | Downloading package gazetteers to\n",
      "[nltk_data]    |     /usr/share/nltk_data...\n",
      "[nltk_data]    |   Package gazetteers is already up-to-date!\n",
      "[nltk_data]    | Downloading package genesis to\n",
      "[nltk_data]    |     /usr/share/nltk_data...\n",
      "[nltk_data]    |   Package genesis is already up-to-date!\n",
      "[nltk_data]    | Downloading package gutenberg to\n",
      "[nltk_data]    |     /usr/share/nltk_data...\n",
      "[nltk_data]    |   Package gutenberg is already up-to-date!\n",
      "[nltk_data]    | Downloading package ieer to /usr/share/nltk_data...\n",
      "[nltk_data]    |   Package ieer is already up-to-date!\n",
      "[nltk_data]    | Downloading package inaugural to\n",
      "[nltk_data]    |     /usr/share/nltk_data...\n",
      "[nltk_data]    |   Package inaugural is already up-to-date!\n",
      "[nltk_data]    | Downloading package indian to /usr/share/nltk_data...\n",
      "[nltk_data]    |   Package indian is already up-to-date!\n",
      "[nltk_data]    | Downloading package jeita to /usr/share/nltk_data...\n",
      "[nltk_data]    |   Package jeita is already up-to-date!\n",
      "[nltk_data]    | Downloading package kimmo to /usr/share/nltk_data...\n",
      "[nltk_data]    |   Package kimmo is already up-to-date!\n",
      "[nltk_data]    | Downloading package knbc to /usr/share/nltk_data...\n",
      "[nltk_data]    |   Package knbc is already up-to-date!\n",
      "[nltk_data]    | Downloading package large_grammars to\n",
      "[nltk_data]    |     /usr/share/nltk_data...\n",
      "[nltk_data]    |   Package large_grammars is already up-to-date!\n",
      "[nltk_data]    | Downloading package lin_thesaurus to\n",
      "[nltk_data]    |     /usr/share/nltk_data...\n",
      "[nltk_data]    |   Package lin_thesaurus is already up-to-date!\n",
      "[nltk_data]    | Downloading package mac_morpho to\n",
      "[nltk_data]    |     /usr/share/nltk_data...\n",
      "[nltk_data]    |   Package mac_morpho is already up-to-date!\n",
      "[nltk_data]    | Downloading package machado to\n",
      "[nltk_data]    |     /usr/share/nltk_data...\n",
      "[nltk_data]    |   Package machado is already up-to-date!\n",
      "[nltk_data]    | Downloading package masc_tagged to\n",
      "[nltk_data]    |     /usr/share/nltk_data...\n",
      "[nltk_data]    |   Package masc_tagged is already up-to-date!\n",
      "[nltk_data]    | Downloading package maxent_ne_chunker to\n",
      "[nltk_data]    |     /usr/share/nltk_data...\n",
      "[nltk_data]    |   Package maxent_ne_chunker is already up-to-date!\n",
      "[nltk_data]    | Downloading package maxent_ne_chunker_tab to\n",
      "[nltk_data]    |     /usr/share/nltk_data...\n",
      "[nltk_data]    |   Unzipping chunkers/maxent_ne_chunker_tab.zip.\n",
      "[nltk_data]    | Downloading package maxent_treebank_pos_tagger to\n",
      "[nltk_data]    |     /usr/share/nltk_data...\n",
      "[nltk_data]    |   Package maxent_treebank_pos_tagger is already up-\n",
      "[nltk_data]    |       to-date!\n",
      "[nltk_data]    | Downloading package maxent_treebank_pos_tagger_tab to\n",
      "[nltk_data]    |     /usr/share/nltk_data...\n",
      "[nltk_data]    |   Unzipping\n",
      "[nltk_data]    |       taggers/maxent_treebank_pos_tagger_tab.zip.\n",
      "[nltk_data]    | Downloading package moses_sample to\n",
      "[nltk_data]    |     /usr/share/nltk_data...\n",
      "[nltk_data]    |   Package moses_sample is already up-to-date!\n",
      "[nltk_data]    | Downloading package movie_reviews to\n",
      "[nltk_data]    |     /usr/share/nltk_data...\n",
      "[nltk_data]    |   Package movie_reviews is already up-to-date!\n",
      "[nltk_data]    | Downloading package mte_teip5 to\n",
      "[nltk_data]    |     /usr/share/nltk_data...\n",
      "[nltk_data]    |   Package mte_teip5 is already up-to-date!\n",
      "[nltk_data]    | Downloading package mwa_ppdb to\n",
      "[nltk_data]    |     /usr/share/nltk_data...\n",
      "[nltk_data]    |   Unzipping misc/mwa_ppdb.zip.\n",
      "[nltk_data]    | Downloading package names to /usr/share/nltk_data...\n",
      "[nltk_data]    |   Package names is already up-to-date!\n",
      "[nltk_data]    | Downloading package nombank.1.0 to\n",
      "[nltk_data]    |     /usr/share/nltk_data...\n",
      "[nltk_data]    | Downloading package nonbreaking_prefixes to\n",
      "[nltk_data]    |     /usr/share/nltk_data...\n",
      "[nltk_data]    |   Unzipping corpora/nonbreaking_prefixes.zip.\n",
      "[nltk_data]    | Downloading package nps_chat to\n",
      "[nltk_data]    |     /usr/share/nltk_data...\n",
      "[nltk_data]    |   Package nps_chat is already up-to-date!\n",
      "[nltk_data]    | Downloading package omw to /usr/share/nltk_data...\n",
      "[nltk_data]    |   Package omw is already up-to-date!\n",
      "[nltk_data]    | Downloading package omw-1.4 to\n",
      "[nltk_data]    |     /usr/share/nltk_data...\n",
      "[nltk_data]    | Downloading package opinion_lexicon to\n",
      "[nltk_data]    |     /usr/share/nltk_data...\n",
      "[nltk_data]    |   Package opinion_lexicon is already up-to-date!\n",
      "[nltk_data]    | Downloading package panlex_swadesh to\n",
      "[nltk_data]    |     /usr/share/nltk_data...\n",
      "[nltk_data]    | Downloading package paradigms to\n",
      "[nltk_data]    |     /usr/share/nltk_data...\n",
      "[nltk_data]    |   Package paradigms is already up-to-date!\n",
      "[nltk_data]    | Downloading package pe08 to /usr/share/nltk_data...\n",
      "[nltk_data]    |   Unzipping corpora/pe08.zip.\n",
      "[nltk_data]    | Downloading package perluniprops to\n",
      "[nltk_data]    |     /usr/share/nltk_data...\n",
      "[nltk_data]    |   Unzipping misc/perluniprops.zip.\n",
      "[nltk_data]    | Downloading package pil to /usr/share/nltk_data...\n",
      "[nltk_data]    |   Package pil is already up-to-date!\n",
      "[nltk_data]    | Downloading package pl196x to /usr/share/nltk_data...\n",
      "[nltk_data]    |   Package pl196x is already up-to-date!\n",
      "[nltk_data]    | Downloading package porter_test to\n",
      "[nltk_data]    |     /usr/share/nltk_data...\n",
      "[nltk_data]    |   Package porter_test is already up-to-date!\n",
      "[nltk_data]    | Downloading package ppattach to\n",
      "[nltk_data]    |     /usr/share/nltk_data...\n",
      "[nltk_data]    |   Package ppattach is already up-to-date!\n",
      "[nltk_data]    | Downloading package problem_reports to\n",
      "[nltk_data]    |     /usr/share/nltk_data...\n",
      "[nltk_data]    |   Package problem_reports is already up-to-date!\n",
      "[nltk_data]    | Downloading package product_reviews_1 to\n",
      "[nltk_data]    |     /usr/share/nltk_data...\n",
      "[nltk_data]    |   Package product_reviews_1 is already up-to-date!\n",
      "[nltk_data]    | Downloading package product_reviews_2 to\n",
      "[nltk_data]    |     /usr/share/nltk_data...\n",
      "[nltk_data]    |   Package product_reviews_2 is already up-to-date!\n",
      "[nltk_data]    | Downloading package propbank to\n",
      "[nltk_data]    |     /usr/share/nltk_data...\n",
      "[nltk_data]    |   Package propbank is already up-to-date!\n",
      "[nltk_data]    | Downloading package pros_cons to\n",
      "[nltk_data]    |     /usr/share/nltk_data...\n",
      "[nltk_data]    |   Package pros_cons is already up-to-date!\n",
      "[nltk_data]    | Downloading package ptb to /usr/share/nltk_data...\n",
      "[nltk_data]    |   Package ptb is already up-to-date!\n",
      "[nltk_data]    | Downloading package punkt to /usr/share/nltk_data...\n",
      "[nltk_data]    |   Package punkt is already up-to-date!\n",
      "[nltk_data]    | Downloading package punkt_tab to\n",
      "[nltk_data]    |     /usr/share/nltk_data...\n",
      "[nltk_data]    |   Unzipping tokenizers/punkt_tab.zip.\n",
      "[nltk_data]    | Downloading package qc to /usr/share/nltk_data...\n",
      "[nltk_data]    |   Package qc is already up-to-date!\n",
      "[nltk_data]    | Downloading package reuters to\n",
      "[nltk_data]    |     /usr/share/nltk_data...\n",
      "[nltk_data]    |   Package reuters is already up-to-date!\n",
      "[nltk_data]    | Downloading package rslp to /usr/share/nltk_data...\n",
      "[nltk_data]    |   Package rslp is already up-to-date!\n",
      "[nltk_data]    | Downloading package rte to /usr/share/nltk_data...\n",
      "[nltk_data]    |   Package rte is already up-to-date!\n",
      "[nltk_data]    | Downloading package sample_grammars to\n",
      "[nltk_data]    |     /usr/share/nltk_data...\n",
      "[nltk_data]    |   Package sample_grammars is already up-to-date!\n",
      "[nltk_data]    | Downloading package semcor to /usr/share/nltk_data...\n",
      "[nltk_data]    |   Package semcor is already up-to-date!\n",
      "[nltk_data]    | Downloading package senseval to\n",
      "[nltk_data]    |     /usr/share/nltk_data...\n",
      "[nltk_data]    |   Package senseval is already up-to-date!\n",
      "[nltk_data]    | Downloading package sentence_polarity to\n",
      "[nltk_data]    |     /usr/share/nltk_data...\n",
      "[nltk_data]    |   Package sentence_polarity is already up-to-date!\n",
      "[nltk_data]    | Downloading package sentiwordnet to\n",
      "[nltk_data]    |     /usr/share/nltk_data...\n",
      "[nltk_data]    |   Package sentiwordnet is already up-to-date!\n",
      "[nltk_data]    | Downloading package shakespeare to\n",
      "[nltk_data]    |     /usr/share/nltk_data...\n",
      "[nltk_data]    |   Package shakespeare is already up-to-date!\n",
      "[nltk_data]    | Downloading package sinica_treebank to\n",
      "[nltk_data]    |     /usr/share/nltk_data...\n",
      "[nltk_data]    |   Package sinica_treebank is already up-to-date!\n",
      "[nltk_data]    | Downloading package smultron to\n",
      "[nltk_data]    |     /usr/share/nltk_data...\n",
      "[nltk_data]    |   Package smultron is already up-to-date!\n",
      "[nltk_data]    | Downloading package snowball_data to\n",
      "[nltk_data]    |     /usr/share/nltk_data...\n",
      "[nltk_data]    |   Package snowball_data is already up-to-date!\n",
      "[nltk_data]    | Downloading package spanish_grammars to\n",
      "[nltk_data]    |     /usr/share/nltk_data...\n",
      "[nltk_data]    |   Package spanish_grammars is already up-to-date!\n",
      "[nltk_data]    | Downloading package state_union to\n",
      "[nltk_data]    |     /usr/share/nltk_data...\n",
      "[nltk_data]    |   Package state_union is already up-to-date!\n",
      "[nltk_data]    | Downloading package stopwords to\n",
      "[nltk_data]    |     /usr/share/nltk_data...\n",
      "[nltk_data]    |   Package stopwords is already up-to-date!\n",
      "[nltk_data]    | Downloading package subjectivity to\n",
      "[nltk_data]    |     /usr/share/nltk_data...\n",
      "[nltk_data]    |   Package subjectivity is already up-to-date!\n",
      "[nltk_data]    | Downloading package swadesh to\n",
      "[nltk_data]    |     /usr/share/nltk_data...\n",
      "[nltk_data]    |   Package swadesh is already up-to-date!\n",
      "[nltk_data]    | Downloading package switchboard to\n",
      "[nltk_data]    |     /usr/share/nltk_data...\n",
      "[nltk_data]    |   Package switchboard is already up-to-date!\n",
      "[nltk_data]    | Downloading package tagsets to\n",
      "[nltk_data]    |     /usr/share/nltk_data...\n",
      "[nltk_data]    |   Package tagsets is already up-to-date!\n",
      "[nltk_data]    | Downloading package tagsets_json to\n",
      "[nltk_data]    |     /usr/share/nltk_data...\n",
      "[nltk_data]    |   Unzipping help/tagsets_json.zip.\n",
      "[nltk_data]    | Downloading package timit to /usr/share/nltk_data...\n",
      "[nltk_data]    |   Package timit is already up-to-date!\n",
      "[nltk_data]    | Downloading package toolbox to\n",
      "[nltk_data]    |     /usr/share/nltk_data...\n",
      "[nltk_data]    |   Package toolbox is already up-to-date!\n",
      "[nltk_data]    | Downloading package treebank to\n",
      "[nltk_data]    |     /usr/share/nltk_data...\n",
      "[nltk_data]    |   Package treebank is already up-to-date!\n",
      "[nltk_data]    | Downloading package twitter_samples to\n",
      "[nltk_data]    |     /usr/share/nltk_data...\n",
      "[nltk_data]    |   Package twitter_samples is already up-to-date!\n",
      "[nltk_data]    | Downloading package udhr to /usr/share/nltk_data...\n",
      "[nltk_data]    |   Package udhr is already up-to-date!\n",
      "[nltk_data]    | Downloading package udhr2 to /usr/share/nltk_data...\n",
      "[nltk_data]    |   Package udhr2 is already up-to-date!\n",
      "[nltk_data]    | Downloading package unicode_samples to\n",
      "[nltk_data]    |     /usr/share/nltk_data...\n",
      "[nltk_data]    |   Package unicode_samples is already up-to-date!\n",
      "[nltk_data]    | Downloading package universal_tagset to\n",
      "[nltk_data]    |     /usr/share/nltk_data...\n",
      "[nltk_data]    |   Package universal_tagset is already up-to-date!\n",
      "[nltk_data]    | Downloading package universal_treebanks_v20 to\n",
      "[nltk_data]    |     /usr/share/nltk_data...\n",
      "[nltk_data]    |   Package universal_treebanks_v20 is already up-to-\n",
      "[nltk_data]    |       date!\n",
      "[nltk_data]    | Downloading package vader_lexicon to\n",
      "[nltk_data]    |     /usr/share/nltk_data...\n",
      "[nltk_data]    |   Package vader_lexicon is already up-to-date!\n",
      "[nltk_data]    | Downloading package verbnet to\n",
      "[nltk_data]    |     /usr/share/nltk_data...\n",
      "[nltk_data]    |   Package verbnet is already up-to-date!\n",
      "[nltk_data]    | Downloading package verbnet3 to\n",
      "[nltk_data]    |     /usr/share/nltk_data...\n",
      "[nltk_data]    |   Unzipping corpora/verbnet3.zip.\n",
      "[nltk_data]    | Downloading package webtext to\n",
      "[nltk_data]    |     /usr/share/nltk_data...\n",
      "[nltk_data]    |   Package webtext is already up-to-date!\n",
      "[nltk_data]    | Downloading package wmt15_eval to\n",
      "[nltk_data]    |     /usr/share/nltk_data...\n",
      "[nltk_data]    |   Unzipping models/wmt15_eval.zip.\n",
      "[nltk_data]    | Downloading package word2vec_sample to\n",
      "[nltk_data]    |     /usr/share/nltk_data...\n",
      "[nltk_data]    |   Package word2vec_sample is already up-to-date!\n",
      "[nltk_data]    | Downloading package wordnet to\n",
      "[nltk_data]    |     /usr/share/nltk_data...\n",
      "[nltk_data]    |   Package wordnet is already up-to-date!\n",
      "[nltk_data]    | Downloading package wordnet2021 to\n",
      "[nltk_data]    |     /usr/share/nltk_data...\n",
      "[nltk_data]    | Downloading package wordnet2022 to\n",
      "[nltk_data]    |     /usr/share/nltk_data...\n",
      "[nltk_data]    |   Unzipping corpora/wordnet2022.zip.\n",
      "[nltk_data]    | Downloading package wordnet31 to\n",
      "[nltk_data]    |     /usr/share/nltk_data...\n",
      "[nltk_data]    | Downloading package wordnet_ic to\n",
      "[nltk_data]    |     /usr/share/nltk_data...\n",
      "[nltk_data]    |   Package wordnet_ic is already up-to-date!\n",
      "[nltk_data]    | Downloading package words to /usr/share/nltk_data...\n",
      "[nltk_data]    |   Package words is already up-to-date!\n",
      "[nltk_data]    | Downloading package ycoe to /usr/share/nltk_data...\n",
      "[nltk_data]    |   Package ycoe is already up-to-date!\n",
      "[nltk_data]    | \n",
      "[nltk_data]  Done downloading collection all\n",
      "[nltk_data] Downloading collection 'popular'\n",
      "[nltk_data]    | \n",
      "[nltk_data]    | Downloading package cmudict to\n",
      "[nltk_data]    |     /usr/share/nltk_data...\n",
      "[nltk_data]    |   Package cmudict is already up-to-date!\n",
      "[nltk_data]    | Downloading package gazetteers to\n",
      "[nltk_data]    |     /usr/share/nltk_data...\n",
      "[nltk_data]    |   Package gazetteers is already up-to-date!\n",
      "[nltk_data]    | Downloading package genesis to\n",
      "[nltk_data]    |     /usr/share/nltk_data...\n",
      "[nltk_data]    |   Package genesis is already up-to-date!\n",
      "[nltk_data]    | Downloading package gutenberg to\n",
      "[nltk_data]    |     /usr/share/nltk_data...\n",
      "[nltk_data]    |   Package gutenberg is already up-to-date!\n",
      "[nltk_data]    | Downloading package inaugural to\n",
      "[nltk_data]    |     /usr/share/nltk_data...\n",
      "[nltk_data]    |   Package inaugural is already up-to-date!\n",
      "[nltk_data]    | Downloading package movie_reviews to\n",
      "[nltk_data]    |     /usr/share/nltk_data...\n",
      "[nltk_data]    |   Package movie_reviews is already up-to-date!\n",
      "[nltk_data]    | Downloading package names to /usr/share/nltk_data...\n",
      "[nltk_data]    |   Package names is already up-to-date!\n",
      "[nltk_data]    | Downloading package shakespeare to\n",
      "[nltk_data]    |     /usr/share/nltk_data...\n",
      "[nltk_data]    |   Package shakespeare is already up-to-date!\n",
      "[nltk_data]    | Downloading package stopwords to\n",
      "[nltk_data]    |     /usr/share/nltk_data...\n",
      "[nltk_data]    |   Package stopwords is already up-to-date!\n",
      "[nltk_data]    | Downloading package treebank to\n",
      "[nltk_data]    |     /usr/share/nltk_data...\n",
      "[nltk_data]    |   Package treebank is already up-to-date!\n",
      "[nltk_data]    | Downloading package twitter_samples to\n",
      "[nltk_data]    |     /usr/share/nltk_data...\n",
      "[nltk_data]    |   Package twitter_samples is already up-to-date!\n",
      "[nltk_data]    | Downloading package omw to /usr/share/nltk_data...\n",
      "[nltk_data]    |   Package omw is already up-to-date!\n",
      "[nltk_data]    | Downloading package omw-1.4 to\n",
      "[nltk_data]    |     /usr/share/nltk_data...\n",
      "[nltk_data]    |   Package omw-1.4 is already up-to-date!\n",
      "[nltk_data]    | Downloading package wordnet to\n",
      "[nltk_data]    |     /usr/share/nltk_data...\n",
      "[nltk_data]    |   Package wordnet is already up-to-date!\n",
      "[nltk_data]    | Downloading package wordnet2021 to\n",
      "[nltk_data]    |     /usr/share/nltk_data...\n",
      "[nltk_data]    |   Package wordnet2021 is already up-to-date!\n",
      "[nltk_data]    | Downloading package wordnet31 to\n",
      "[nltk_data]    |     /usr/share/nltk_data...\n",
      "[nltk_data]    |   Package wordnet31 is already up-to-date!\n",
      "[nltk_data]    | Downloading package wordnet_ic to\n",
      "[nltk_data]    |     /usr/share/nltk_data...\n",
      "[nltk_data]    |   Package wordnet_ic is already up-to-date!\n",
      "[nltk_data]    | Downloading package words to /usr/share/nltk_data...\n",
      "[nltk_data]    |   Package words is already up-to-date!\n",
      "[nltk_data]    | Downloading package maxent_ne_chunker to\n",
      "[nltk_data]    |     /usr/share/nltk_data...\n",
      "[nltk_data]    |   Package maxent_ne_chunker is already up-to-date!\n",
      "[nltk_data]    | Downloading package punkt to /usr/share/nltk_data...\n",
      "[nltk_data]    |   Package punkt is already up-to-date!\n",
      "[nltk_data]    | Downloading package snowball_data to\n",
      "[nltk_data]    |     /usr/share/nltk_data...\n",
      "[nltk_data]    |   Package snowball_data is already up-to-date!\n",
      "[nltk_data]    | Downloading package averaged_perceptron_tagger to\n",
      "[nltk_data]    |     /usr/share/nltk_data...\n",
      "[nltk_data]    |   Package averaged_perceptron_tagger is already up-\n",
      "[nltk_data]    |       to-date!\n",
      "[nltk_data]    | \n",
      "[nltk_data]  Done downloading collection popular\n"
     ]
    },
    {
     "data": {
      "text/plain": [
       "True"
      ]
     },
     "execution_count": 1,
     "metadata": {},
     "output_type": "execute_result"
    }
   ],
   "source": [
    "!pip install nltk\n",
    "import nltk\n",
    "nltk.download('nps_chat')\n",
    "nltk.download('all')\n",
    "\n",
    "nltk.download('popular')"
   ]
  },
  {
   "cell_type": "markdown",
   "id": "f88397ef",
   "metadata": {
    "id": "96U1je79iM7K",
    "papermill": {
     "duration": 0.011966,
     "end_time": "2025-01-13T00:44:01.237145",
     "exception": false,
     "start_time": "2025-01-13T00:44:01.225179",
     "status": "completed"
    },
    "tags": []
   },
   "source": [
    "#**Question** 1"
   ]
  },
  {
   "cell_type": "code",
   "execution_count": 2,
   "id": "b4a2d229",
   "metadata": {
    "execution": {
     "iopub.execute_input": "2025-01-13T00:44:01.255140Z",
     "iopub.status.busy": "2025-01-13T00:44:01.254694Z",
     "iopub.status.idle": "2025-01-13T00:44:08.427414Z",
     "shell.execute_reply": "2025-01-13T00:44:08.426246Z"
    },
    "executionInfo": {
     "elapsed": 14445,
     "status": "ok",
     "timestamp": 1735311139980,
     "user": {
      "displayName": "SAD YEAMIN SAYEM",
      "userId": "07841245779183727852"
     },
     "user_tz": -360
    },
    "id": "buxA-FxSiPwH",
    "outputId": "8c58a040-700d-4f56-815a-90f9b8275536",
    "papermill": {
     "duration": 7.18281,
     "end_time": "2025-01-13T00:44:08.428974",
     "exception": false,
     "start_time": "2025-01-13T00:44:01.246164",
     "status": "completed"
    },
    "tags": []
   },
   "outputs": [
    {
     "name": "stdout",
     "output_type": "stream",
     "text": [
      "*** Introductory Examples for the NLTK Book ***\n",
      "Loading text1, ..., text9 and sent1, ..., sent9\n",
      "Type the name of the text or sentence to view it.\n",
      "Type: 'texts()' or 'sents()' to list the materials.\n",
      "text1: Moby Dick by Herman Melville 1851\n",
      "text2: Sense and Sensibility by Jane Austen 1811\n",
      "text3: The Book of Genesis\n",
      "text4: Inaugural Address Corpus\n",
      "text5: Chat Corpus\n",
      "text6: Monty Python and the Holy Grail\n",
      "text7: Wall Street Journal\n",
      "text8: Personals Corpus\n",
      "text9: The Man Who Was Thursday by G . K . Chesterton 1908\n",
      "A. The Vocablary size is 19317\n",
      "Word count with punchuation 260819\n",
      "Word count without punchuation 218621\n"
     ]
    }
   ],
   "source": [
    "from nltk.book import *\n",
    "import re\n",
    "#A\n",
    "\n",
    "vocab_size= len(set(text1))\n",
    "print(f\"A. The Vocablary size is {vocab_size}\")\n",
    "\n",
    "#B\n",
    "#Not counting punchuation mark as word\n",
    "count_word_Puchuation=len(text1)\n",
    "count_word_NoPunchuation=len(re.findall(r'\\b\\w+\\b', ' '.join(text1)))\n",
    "print(f\"Word count with punchuation {count_word_Puchuation}\")\n",
    "print(f\"Word count without punchuation {count_word_NoPunchuation}\")\n"
   ]
  },
  {
   "cell_type": "code",
   "execution_count": 3,
   "id": "b385098d",
   "metadata": {
    "execution": {
     "iopub.execute_input": "2025-01-13T00:44:08.444946Z",
     "iopub.status.busy": "2025-01-13T00:44:08.444600Z",
     "iopub.status.idle": "2025-01-13T00:44:08.566034Z",
     "shell.execute_reply": "2025-01-13T00:44:08.565038Z"
    },
    "executionInfo": {
     "elapsed": 13,
     "status": "ok",
     "timestamp": 1735311139982,
     "user": {
      "displayName": "SAD YEAMIN SAYEM",
      "userId": "07841245779183727852"
     },
     "user_tz": -360
    },
    "id": "gzk31Zk0nrh_",
    "outputId": "f7b05f20-9a34-466c-cf73-1a569e8c3f04",
    "papermill": {
     "duration": 0.130852,
     "end_time": "2025-01-13T00:44:08.567636",
     "exception": false,
     "start_time": "2025-01-13T00:44:08.436784",
     "status": "completed"
    },
    "tags": []
   },
   "outputs": [
    {
     "name": "stdout",
     "output_type": "stream",
     "text": [
      "<Text: Moby Dick by Herman Melville 1851>\n"
     ]
    }
   ],
   "source": [
    "#c\n",
    "#Word frequency\n",
    "print(text1)\n",
    "word_frq_dict={}\n",
    "for word in text1:\n",
    "  word_frq_dict[word]=word_frq_dict.get(word,0)+1\n",
    "# print(word_frq_dict)"
   ]
  },
  {
   "cell_type": "code",
   "execution_count": 4,
   "id": "50ce19f2",
   "metadata": {
    "execution": {
     "iopub.execute_input": "2025-01-13T00:44:08.584570Z",
     "iopub.status.busy": "2025-01-13T00:44:08.584164Z",
     "iopub.status.idle": "2025-01-13T00:44:08.611068Z",
     "shell.execute_reply": "2025-01-13T00:44:08.609988Z"
    },
    "executionInfo": {
     "elapsed": 12,
     "status": "ok",
     "timestamp": 1735311139982,
     "user": {
      "displayName": "SAD YEAMIN SAYEM",
      "userId": "07841245779183727852"
     },
     "user_tz": -360
    },
    "id": "sVa9QiTwsAEO",
    "outputId": "92723716-86ba-43ac-ac9c-5d90cec179aa",
    "papermill": {
     "duration": 0.037314,
     "end_time": "2025-01-13T00:44:08.612708",
     "exception": false,
     "start_time": "2025-01-13T00:44:08.575394",
     "status": "completed"
    },
    "tags": []
   },
   "outputs": [
    {
     "name": "stdout",
     "output_type": "stream",
     "text": [
      "[(',', 18713), ('the', 13721), ('.', 6862), ('of', 6536), ('and', 6024), ('a', 4569), ('to', 4542), (';', 4072), ('in', 3916), ('that', 2982)]\n"
     ]
    }
   ],
   "source": [
    "#D\n",
    "#Top ten words\n",
    "most_frq_10= sorted(word_frq_dict.items(),key=lambda x:x[1],reverse=True) [0:10]\n",
    "print(most_frq_10)"
   ]
  },
  {
   "cell_type": "code",
   "execution_count": 5,
   "id": "55acfe42",
   "metadata": {
    "execution": {
     "iopub.execute_input": "2025-01-13T00:44:08.629776Z",
     "iopub.status.busy": "2025-01-13T00:44:08.629417Z",
     "iopub.status.idle": "2025-01-13T00:44:08.646193Z",
     "shell.execute_reply": "2025-01-13T00:44:08.645387Z"
    },
    "executionInfo": {
     "elapsed": 11,
     "status": "ok",
     "timestamp": 1735311139982,
     "user": {
      "displayName": "SAD YEAMIN SAYEM",
      "userId": "07841245779183727852"
     },
     "user_tz": -360
    },
    "id": "FnM7Rg9QvPni",
    "outputId": "5ad8bc56-7e1c-4c59-b648-48cb0594a96c",
    "papermill": {
     "duration": 0.026932,
     "end_time": "2025-01-13T00:44:08.647626",
     "exception": false,
     "start_time": "2025-01-13T00:44:08.620694",
     "status": "completed"
    },
    "tags": []
   },
   "outputs": [
    {
     "name": "stdout",
     "output_type": "stream",
     "text": [
      "[('the', 13721), ('of', 6536), ('and', 6024), ('a', 4569), ('to', 4542), ('in', 3916), ('that', 2982), ('his', 2459), ('it', 2209), ('I', 2124)]\n"
     ]
    }
   ],
   "source": [
    "#D\n",
    "import string\n",
    "# print(string.punctuation)\n",
    "most_frq_10_noPunctuation = sorted([\n",
    "    (word, freq) for word, freq in word_frq_dict.items() if word not in string.punctuation\n",
    "], key=lambda x: x[1], reverse=True)[:10]\n",
    "print(most_frq_10_noPunctuation)"
   ]
  },
  {
   "cell_type": "markdown",
   "id": "b1ff472a",
   "metadata": {
    "id": "mMxohloBELcj",
    "papermill": {
     "duration": 0.007439,
     "end_time": "2025-01-13T00:44:08.663048",
     "exception": false,
     "start_time": "2025-01-13T00:44:08.655609",
     "status": "completed"
    },
    "tags": []
   },
   "source": [
    "# Question 2"
   ]
  },
  {
   "cell_type": "code",
   "execution_count": 6,
   "id": "52069bca",
   "metadata": {
    "execution": {
     "iopub.execute_input": "2025-01-13T00:44:08.679290Z",
     "iopub.status.busy": "2025-01-13T00:44:08.678939Z",
     "iopub.status.idle": "2025-01-13T00:44:10.835013Z",
     "shell.execute_reply": "2025-01-13T00:44:10.833785Z"
    },
    "executionInfo": {
     "elapsed": 4608,
     "status": "ok",
     "timestamp": 1735311144580,
     "user": {
      "displayName": "SAD YEAMIN SAYEM",
      "userId": "07841245779183727852"
     },
     "user_tz": -360
    },
    "id": "ATGk1MITEQA0",
    "outputId": "8237ea77-331e-4295-9574-3527fa7c8ef0",
    "papermill": {
     "duration": 2.166214,
     "end_time": "2025-01-13T00:44:10.836908",
     "exception": false,
     "start_time": "2025-01-13T00:44:08.670694",
     "status": "completed"
    },
    "tags": []
   },
   "outputs": [
    {
     "data": {
      "text/html": [
       "<div>\n",
       "<style scoped>\n",
       "    .dataframe tbody tr th:only-of-type {\n",
       "        vertical-align: middle;\n",
       "    }\n",
       "\n",
       "    .dataframe tbody tr th {\n",
       "        vertical-align: top;\n",
       "    }\n",
       "\n",
       "    .dataframe thead th {\n",
       "        text-align: right;\n",
       "    }\n",
       "</style>\n",
       "<table border=\"1\" class=\"dataframe\">\n",
       "  <thead>\n",
       "    <tr style=\"text-align: right;\">\n",
       "      <th></th>\n",
       "      <th>review</th>\n",
       "      <th>sentiment</th>\n",
       "    </tr>\n",
       "  </thead>\n",
       "  <tbody>\n",
       "    <tr>\n",
       "      <th>0</th>\n",
       "      <td>One of the other reviewers has mentioned that ...</td>\n",
       "      <td>positive</td>\n",
       "    </tr>\n",
       "    <tr>\n",
       "      <th>1</th>\n",
       "      <td>A wonderful little production. &lt;br /&gt;&lt;br /&gt;The...</td>\n",
       "      <td>positive</td>\n",
       "    </tr>\n",
       "    <tr>\n",
       "      <th>2</th>\n",
       "      <td>I thought this was a wonderful way to spend ti...</td>\n",
       "      <td>positive</td>\n",
       "    </tr>\n",
       "    <tr>\n",
       "      <th>3</th>\n",
       "      <td>Basically there's a family where a little boy ...</td>\n",
       "      <td>negative</td>\n",
       "    </tr>\n",
       "    <tr>\n",
       "      <th>4</th>\n",
       "      <td>Petter Mattei's \"Love in the Time of Money\" is...</td>\n",
       "      <td>positive</td>\n",
       "    </tr>\n",
       "  </tbody>\n",
       "</table>\n",
       "</div>"
      ],
      "text/plain": [
       "                                              review sentiment\n",
       "0  One of the other reviewers has mentioned that ...  positive\n",
       "1  A wonderful little production. <br /><br />The...  positive\n",
       "2  I thought this was a wonderful way to spend ti...  positive\n",
       "3  Basically there's a family where a little boy ...  negative\n",
       "4  Petter Mattei's \"Love in the Time of Money\" is...  positive"
      ]
     },
     "execution_count": 6,
     "metadata": {},
     "output_type": "execute_result"
    }
   ],
   "source": [
    "#environment set up\n",
    "\n",
    "import pandas as pd\n",
    "# from google.colab import drive\n",
    "# drive.mount('/content/gdrive')\n",
    "# data=pd.read_csv('/content/gdrive/MyDrive/IMDB_Dataset.csv')\n",
    "# data.head()\n",
    "data=pd.read_csv('/kaggle/input/cse440/IMDB Dataset.csv')\n",
    "data.head()"
   ]
  },
  {
   "cell_type": "code",
   "execution_count": 7,
   "id": "ffb734a1",
   "metadata": {
    "execution": {
     "iopub.execute_input": "2025-01-13T00:44:10.855272Z",
     "iopub.status.busy": "2025-01-13T00:44:10.854811Z",
     "iopub.status.idle": "2025-01-13T00:45:31.947087Z",
     "shell.execute_reply": "2025-01-13T00:45:31.946124Z"
    },
    "executionInfo": {
     "elapsed": 121041,
     "status": "ok",
     "timestamp": 1735311265619,
     "user": {
      "displayName": "SAD YEAMIN SAYEM",
      "userId": "07841245779183727852"
     },
     "user_tz": -360
    },
    "id": "J2xz8-dJLdjg",
    "papermill": {
     "duration": 81.102908,
     "end_time": "2025-01-13T00:45:31.949025",
     "exception": false,
     "start_time": "2025-01-13T00:44:10.846117",
     "status": "completed"
    },
    "tags": []
   },
   "outputs": [],
   "source": [
    "#A\n",
    "from nltk.tokenize import word_tokenize, sent_tokenize\n",
    "\n",
    "\n",
    "longest_word_index= data['review'].apply(lambda x: len(word_tokenize(x))).idxmax()\n",
    "\n"
   ]
  },
  {
   "cell_type": "code",
   "execution_count": 8,
   "id": "2193f0a0",
   "metadata": {
    "execution": {
     "iopub.execute_input": "2025-01-13T00:45:31.966750Z",
     "iopub.status.busy": "2025-01-13T00:45:31.966407Z",
     "iopub.status.idle": "2025-01-13T00:45:48.858736Z",
     "shell.execute_reply": "2025-01-13T00:45:48.857861Z"
    },
    "executionInfo": {
     "elapsed": 15155,
     "status": "ok",
     "timestamp": 1735311280771,
     "user": {
      "displayName": "SAD YEAMIN SAYEM",
      "userId": "07841245779183727852"
     },
     "user_tz": -360
    },
    "id": "4t3fyqjPWqyx",
    "papermill": {
     "duration": 16.902927,
     "end_time": "2025-01-13T00:45:48.860504",
     "exception": false,
     "start_time": "2025-01-13T00:45:31.957577",
     "status": "completed"
    },
    "tags": []
   },
   "outputs": [],
   "source": [
    "longest_sentence_indx=data['review'].apply(lambda x: len(sent_tokenize(x))).idxmax()"
   ]
  },
  {
   "cell_type": "code",
   "execution_count": 9,
   "id": "7ee6ffcf",
   "metadata": {
    "execution": {
     "iopub.execute_input": "2025-01-13T00:45:48.879024Z",
     "iopub.status.busy": "2025-01-13T00:45:48.878671Z",
     "iopub.status.idle": "2025-01-13T00:45:48.885387Z",
     "shell.execute_reply": "2025-01-13T00:45:48.884213Z"
    },
    "executionInfo": {
     "elapsed": 6,
     "status": "ok",
     "timestamp": 1735311280772,
     "user": {
      "displayName": "SAD YEAMIN SAYEM",
      "userId": "07841245779183727852"
     },
     "user_tz": -360
    },
    "id": "BX13dw-vVQB7",
    "outputId": "451c8156-dfa8-4f8f-93d1-982cdba86394",
    "papermill": {
     "duration": 0.017473,
     "end_time": "2025-01-13T00:45:48.887049",
     "exception": false,
     "start_time": "2025-01-13T00:45:48.869576",
     "status": "completed"
    },
    "tags": []
   },
   "outputs": [
    {
     "name": "stdout",
     "output_type": "stream",
     "text": [
      "Longest word row :\n",
      " review       There's a sign on The Lost Highway that says:<...\n",
      "sentiment                                             positive\n",
      "Name: 40521, dtype: object\n",
      "Longest Sentencce row : \n",
      "review       Smallville episode Justice is the best episode...\n",
      "sentiment                                             positive\n",
      "Name: 39182, dtype: object\n",
      "Number of Reviews 50000\n"
     ]
    }
   ],
   "source": [
    "print(f\"Longest word row :\\n {data.loc[longest_word_index]}\")\n",
    "print(f\"Longest Sentencce row : \\n{data.loc[longest_sentence_indx]}\")\n",
    "print(f\"Number of Reviews {data.shape[0]}\")"
   ]
  },
  {
   "cell_type": "code",
   "execution_count": 10,
   "id": "fe4275c6",
   "metadata": {
    "execution": {
     "iopub.execute_input": "2025-01-13T00:45:48.904773Z",
     "iopub.status.busy": "2025-01-13T00:45:48.904410Z",
     "iopub.status.idle": "2025-01-13T00:47:11.959660Z",
     "shell.execute_reply": "2025-01-13T00:47:11.958744Z"
    },
    "executionInfo": {
     "elapsed": 107703,
     "status": "ok",
     "timestamp": 1735311388470,
     "user": {
      "displayName": "SAD YEAMIN SAYEM",
      "userId": "07841245779183727852"
     },
     "user_tz": -360
    },
    "id": "v5UHPJ_wZAmi",
    "outputId": "63206889-6462-483b-decf-37af1a694573",
    "papermill": {
     "duration": 83.066245,
     "end_time": "2025-01-13T00:47:11.961532",
     "exception": false,
     "start_time": "2025-01-13T00:45:48.895287",
     "status": "completed"
    },
    "tags": []
   },
   "outputs": [
    {
     "name": "stdout",
     "output_type": "stream",
     "text": [
      "[nltk_data] Downloading package punkt to /usr/share/nltk_data...\n",
      "[nltk_data]   Package punkt is already up-to-date!\n",
      "[nltk_data] Downloading package stopwords to /usr/share/nltk_data...\n",
      "[nltk_data]   Package stopwords is already up-to-date!\n"
     ]
    }
   ],
   "source": [
    "# #B\n",
    "\n",
    "\n",
    "# import spacy\n",
    "# nlp = spacy.load(\"en_core_web_sm\")\n",
    "# def clean_review_spacy(review):\n",
    "#     doc = nlp(review)\n",
    "#     cleaned_tokens = [token.text.lower() for token in doc if not token.is_stop and not token.is_punct]\n",
    "#     return \" \".join(cleaned_tokens)\n",
    "# data['clean_review'] = data['review'].apply(clean_review_spacy)\n",
    "# # Save the cleaned reviews to a text file\n",
    "# with open(\"clean_reviews_spacy.txt\", \"w\") as f:\n",
    "#     for review in data['clean_review']:\n",
    "#         f.write(review + \"\\n\")\n",
    "\n",
    "# print(\"Clean reviews saved to clean_reviews_spacy.txt\")\n",
    "# print(nlp)\n",
    "\n",
    "\n",
    "from nltk.corpus import stopwords\n",
    "nltk.download('punkt')\n",
    "nltk.download('stopwords')\n",
    "import string\n",
    "stop_words=set(stopwords.words('english'))\n",
    "extra_punc = set(['“', '”', '‘', '’', '–'])\n",
    "punc= set(string.punctuation).union(extra_punc)\n",
    "def clean_review(review):\n",
    "    words = word_tokenize(review.lower())\n",
    "    clean_words = [word for word in words if word not in stop_words and word not in punc]\n",
    "    return \" \".join(clean_words)\n",
    "data['cleaned_review'] = data['review'].apply(clean_review)\n",
    "\n"
   ]
  },
  {
   "cell_type": "code",
   "execution_count": 11,
   "id": "c129e760",
   "metadata": {
    "execution": {
     "iopub.execute_input": "2025-01-13T00:47:11.978945Z",
     "iopub.status.busy": "2025-01-13T00:47:11.978655Z",
     "iopub.status.idle": "2025-01-13T00:47:12.072836Z",
     "shell.execute_reply": "2025-01-13T00:47:12.071735Z"
    },
    "executionInfo": {
     "elapsed": 4,
     "status": "ok",
     "timestamp": 1735311388470,
     "user": {
      "displayName": "SAD YEAMIN SAYEM",
      "userId": "07841245779183727852"
     },
     "user_tz": -360
    },
    "id": "Lys7_ZT7iiRC",
    "outputId": "a2782691-e126-42fd-ece5-8d9d628fa656",
    "papermill": {
     "duration": 0.104356,
     "end_time": "2025-01-13T00:47:12.074313",
     "exception": false,
     "start_time": "2025-01-13T00:47:11.969957",
     "status": "completed"
    },
    "tags": []
   },
   "outputs": [
    {
     "name": "stdout",
     "output_type": "stream",
     "text": [
      "Cleaned reviews have been saved.\n"
     ]
    }
   ],
   "source": [
    "\n",
    "with open('/kaggle/working/review_data.txt', 'w') as file:\n",
    "    for review in data['cleaned_review']:\n",
    "        file.write(review + \"\\n\")\n",
    "\n",
    "print(\"Cleaned reviews have been saved.\")\n"
   ]
  },
  {
   "cell_type": "code",
   "execution_count": 12,
   "id": "fdf74dd5",
   "metadata": {
    "execution": {
     "iopub.execute_input": "2025-01-13T00:47:12.091764Z",
     "iopub.status.busy": "2025-01-13T00:47:12.091457Z",
     "iopub.status.idle": "2025-01-13T00:47:12.178837Z",
     "shell.execute_reply": "2025-01-13T00:47:12.177530Z"
    },
    "executionInfo": {
     "elapsed": 4,
     "status": "ok",
     "timestamp": 1735311388471,
     "user": {
      "displayName": "SAD YEAMIN SAYEM",
      "userId": "07841245779183727852"
     },
     "user_tz": -360
    },
    "id": "Au3-GvyyjHEJ",
    "outputId": "10fe1025-b776-4011-d668-8d1fc5bb3108",
    "papermill": {
     "duration": 0.09791,
     "end_time": "2025-01-13T00:47:12.180277",
     "exception": false,
     "start_time": "2025-01-13T00:47:12.082367",
     "status": "completed"
    },
    "tags": []
   },
   "outputs": [
    {
     "name": "stdout",
     "output_type": "stream",
     "text": [
      "All reviews saved properly: True\n"
     ]
    }
   ],
   "source": [
    "with open('/kaggle/working/review_data.txt', 'r') as file:\n",
    "    saved_reviews = file.readlines()\n",
    "\n",
    "print(f\"All reviews saved properly: {len(saved_reviews)==data.shape[0]}\")\n",
    "#print(f\"Total number of reviews in the dataset: {num_reviews}\")\n",
    "# data=data.drop(columns='cleaned_review')"
   ]
  },
  {
   "cell_type": "markdown",
   "id": "5683d750",
   "metadata": {
    "id": "3EqnLLW9L2jc",
    "papermill": {
     "duration": 0.007688,
     "end_time": "2025-01-13T00:47:12.196131",
     "exception": false,
     "start_time": "2025-01-13T00:47:12.188443",
     "status": "completed"
    },
    "tags": []
   },
   "source": [
    "#Question 3\n"
   ]
  },
  {
   "cell_type": "code",
   "execution_count": 13,
   "id": "1ab766dc",
   "metadata": {
    "execution": {
     "iopub.execute_input": "2025-01-13T00:47:12.213397Z",
     "iopub.status.busy": "2025-01-13T00:47:12.212997Z",
     "iopub.status.idle": "2025-01-13T00:47:17.827499Z",
     "shell.execute_reply": "2025-01-13T00:47:17.826446Z"
    },
    "executionInfo": {
     "elapsed": 9284,
     "status": "ok",
     "timestamp": 1735311397752,
     "user": {
      "displayName": "SAD YEAMIN SAYEM",
      "userId": "07841245779183727852"
     },
     "user_tz": -360
    },
    "id": "bcAtQOSgjKb0",
    "outputId": "78cf92f2-a445-4d6b-a573-45e98ec07b74",
    "papermill": {
     "duration": 5.624938,
     "end_time": "2025-01-13T00:47:17.829032",
     "exception": false,
     "start_time": "2025-01-13T00:47:12.204094",
     "status": "completed"
    },
    "tags": []
   },
   "outputs": [
    {
     "name": "stdout",
     "output_type": "stream",
     "text": [
      "vactor mattrix completed\n"
     ]
    }
   ],
   "source": [
    "from sklearn.feature_extraction.text import TfidfVectorizer\n",
    "vectorizer=TfidfVectorizer()\n",
    "mattrix= vectorizer.fit_transform(data['cleaned_review'])\n",
    "\n",
    "\n",
    "print(\"vactor mattrix completed\")\n",
    "\n",
    "\n"
   ]
  },
  {
   "cell_type": "code",
   "execution_count": 14,
   "id": "92a994f1",
   "metadata": {
    "execution": {
     "iopub.execute_input": "2025-01-13T00:47:17.846063Z",
     "iopub.status.busy": "2025-01-13T00:47:17.845764Z",
     "iopub.status.idle": "2025-01-13T00:47:40.203068Z",
     "shell.execute_reply": "2025-01-13T00:47:40.201933Z"
    },
    "id": "rXsiDCmSoawn",
    "outputId": "b7fd62ed-e2b8-4621-b938-35c8859e49aa",
    "papermill": {
     "duration": 22.36793,
     "end_time": "2025-01-13T00:47:40.204868",
     "exception": false,
     "start_time": "2025-01-13T00:47:17.836938",
     "status": "completed"
    },
    "tags": []
   },
   "outputs": [
    {
     "name": "stdout",
     "output_type": "stream",
     "text": [
      "First 5 feature names: ['00' '000' '00000000000' '0000000000001' '00000001']\n",
      "\n",
      "\n",
      "        00  000  00000000000  0000000000001  00000001  00001  00015  000dm  \\\n",
      "0      0.0  0.0          0.0            0.0       0.0    0.0    0.0    0.0   \n",
      "1      0.0  0.0          0.0            0.0       0.0    0.0    0.0    0.0   \n",
      "2      0.0  0.0          0.0            0.0       0.0    0.0    0.0    0.0   \n",
      "3      0.0  0.0          0.0            0.0       0.0    0.0    0.0    0.0   \n",
      "4      0.0  0.0          0.0            0.0       0.0    0.0    0.0    0.0   \n",
      "...    ...  ...          ...            ...       ...    ...    ...    ...   \n",
      "49995  0.0  0.0          0.0            0.0       0.0    0.0    0.0    0.0   \n",
      "49996  0.0  0.0          0.0            0.0       0.0    0.0    0.0    0.0   \n",
      "49997  0.0  0.0          0.0            0.0       0.0    0.0    0.0    0.0   \n",
      "49998  0.0  0.0          0.0            0.0       0.0    0.0    0.0    0.0   \n",
      "49999  0.0  0.0          0.0            0.0       0.0    0.0    0.0    0.0   \n",
      "\n",
      "       000s  001  ...  ünel  ünfaithful  üvegtigris  üzümcü   ýs  þorleifsson  \\\n",
      "0       0.0  0.0  ...   0.0         0.0         0.0     0.0  0.0          0.0   \n",
      "1       0.0  0.0  ...   0.0         0.0         0.0     0.0  0.0          0.0   \n",
      "2       0.0  0.0  ...   0.0         0.0         0.0     0.0  0.0          0.0   \n",
      "3       0.0  0.0  ...   0.0         0.0         0.0     0.0  0.0          0.0   \n",
      "4       0.0  0.0  ...   0.0         0.0         0.0     0.0  0.0          0.0   \n",
      "...     ...  ...  ...   ...         ...         ...     ...  ...          ...   \n",
      "49995   0.0  0.0  ...   0.0         0.0         0.0     0.0  0.0          0.0   \n",
      "49996   0.0  0.0  ...   0.0         0.0         0.0     0.0  0.0          0.0   \n",
      "49997   0.0  0.0  ...   0.0         0.0         0.0     0.0  0.0          0.0   \n",
      "49998   0.0  0.0  ...   0.0         0.0         0.0     0.0  0.0          0.0   \n",
      "49999   0.0  0.0  ...   0.0         0.0         0.0     0.0  0.0          0.0   \n",
      "\n",
      "       þór  żmijewski  יגאל  כרמון  \n",
      "0      0.0        0.0   0.0    0.0  \n",
      "1      0.0        0.0   0.0    0.0  \n",
      "2      0.0        0.0   0.0    0.0  \n",
      "3      0.0        0.0   0.0    0.0  \n",
      "4      0.0        0.0   0.0    0.0  \n",
      "...    ...        ...   ...    ...  \n",
      "49995  0.0        0.0   0.0    0.0  \n",
      "49996  0.0        0.0   0.0    0.0  \n",
      "49997  0.0        0.0   0.0    0.0  \n",
      "49998  0.0        0.0   0.0    0.0  \n",
      "49999  0.0        0.0   0.0    0.0  \n",
      "\n",
      "[50000 rows x 101879 columns]\n",
      "Shape of The Mattrix : (50000, 101879)\n"
     ]
    }
   ],
   "source": [
    "#A\n",
    "from typing_extensions import dataclass_transform\n",
    "print(\"First 5 feature names:\", vectorizer.get_feature_names_out()[:5])\n",
    "print()\n",
    "print()\n",
    "df_tfidf = pd.DataFrame(mattrix.toarray(), columns=vectorizer.get_feature_names_out())\n",
    "print(df_tfidf)\n",
    "print(f\"Shape of The Mattrix : {mattrix.shape}\")\n",
    "# print(mattrix.shape[0])\n",
    "# print(mattrix.shape[1])\n"
   ]
  },
  {
   "cell_type": "code",
   "execution_count": 15,
   "id": "575759f6",
   "metadata": {
    "execution": {
     "iopub.execute_input": "2025-01-13T00:47:40.222923Z",
     "iopub.status.busy": "2025-01-13T00:47:40.222499Z",
     "iopub.status.idle": "2025-01-13T00:47:50.574315Z",
     "shell.execute_reply": "2025-01-13T00:47:50.573272Z"
    },
    "id": "VWuC6XG-BpBe",
    "papermill": {
     "duration": 10.362595,
     "end_time": "2025-01-13T00:47:50.576057",
     "exception": false,
     "start_time": "2025-01-13T00:47:40.213462",
     "status": "completed"
    },
    "tags": []
   },
   "outputs": [
    {
     "name": "stdout",
     "output_type": "stream",
     "text": [
      "Cosine Similarity: Man and Woman: 0.83234936\n",
      "Cosine Similarity: Cat and Dog: 0.8798076\n",
      "Cosine Similarity: King and Queen: 0.7507691\n",
      "Cosine Similarity : (King - Man + Woman) with Queen: 0.78344136\n"
     ]
    }
   ],
   "source": [
    "#3B\n",
    "\n",
    "import numpy as np\n",
    "path = '/kaggle/input/cse440/glove.6B.100d.txt'\n",
    "\n",
    "# Function all embedding\n",
    "def all_emb(file_path):\n",
    "    embeddings = {}\n",
    "    with open(file_path, 'r', encoding='utf-8') as file:\n",
    "        for line in file:\n",
    "            values = line.split()\n",
    "            word = values[0]\n",
    "            vector = np.asarray(values[1:], dtype='float32')\n",
    "            embeddings[word] = vector\n",
    "    return embeddings\n",
    "\n",
    "# Cosine similarity function\n",
    "def cosine_similarity(vec1, vec2):\n",
    "    return np.dot(vec1, vec2) / (np.linalg.norm(vec1) * np.linalg.norm(vec2))\n",
    "\n",
    "embeddings = all_emb(path)\n",
    "#embedding function\n",
    "def emb_func(word, embeddings):\n",
    "    if word in embeddings:\n",
    "        return embeddings[word]\n",
    "    else:\n",
    "        return (f\"Word '{word}' not found in the embeddings.\")\n",
    "\n",
    "man = emb_func('man', embeddings)\n",
    "woman = emb_func('woman', embeddings)\n",
    "cat = emb_func('cat', embeddings)\n",
    "dog = emb_func('dog', embeddings)\n",
    "king = emb_func('king', embeddings)\n",
    "queen = emb_func('queen', embeddings)\n",
    "\n",
    "# Compute cosine similarities\n",
    "print(\"Cosine Similarity: Man and Woman:\", cosine_similarity(man, woman))\n",
    "print(\"Cosine Similarity: Cat and Dog:\", cosine_similarity(cat, dog))\n",
    "print(\"Cosine Similarity: King and Queen:\", cosine_similarity(king, queen))\n",
    "\n",
    "result_vec = king - man + woman\n",
    "sim_queen = cosine_similarity(result_vec, queen)\n",
    "print(\"Cosine Similarity : (King - Man + Woman) with Queen:\", sim_queen)\n",
    "\n"
   ]
  },
  {
   "cell_type": "code",
   "execution_count": 16,
   "id": "698cd839",
   "metadata": {
    "execution": {
     "iopub.execute_input": "2025-01-13T00:47:50.594195Z",
     "iopub.status.busy": "2025-01-13T00:47:50.593861Z",
     "iopub.status.idle": "2025-01-13T00:47:50.597628Z",
     "shell.execute_reply": "2025-01-13T00:47:50.596698Z"
    },
    "id": "EgY_aaJ7UPiR",
    "papermill": {
     "duration": 0.01445,
     "end_time": "2025-01-13T00:47:50.599241",
     "exception": false,
     "start_time": "2025-01-13T00:47:50.584791",
     "status": "completed"
    },
    "tags": []
   },
   "outputs": [],
   "source": [
    "#Yes it refelcts what we learned in class . The consine similarity of king-man+woman has huge similarity with queen"
   ]
  }
 ],
 "metadata": {
  "accelerator": "GPU",
  "colab": {
   "authorship_tag": "ABX9TyNh4ejRnzs4UR9IXiYFPTKJ",
   "gpuType": "T4",
   "provenance": []
  },
  "kaggle": {
   "accelerator": "gpu",
   "dataSources": [
    {
     "datasetId": 6384431,
     "sourceId": 10313029,
     "sourceType": "datasetVersion"
    }
   ],
   "dockerImageVersionId": 30823,
   "isGpuEnabled": true,
   "isInternetEnabled": true,
   "language": "python",
   "sourceType": "notebook"
  },
  "kernelspec": {
   "display_name": "Python 3",
   "language": "python",
   "name": "python3"
  },
  "language_info": {
   "codemirror_mode": {
    "name": "ipython",
    "version": 3
   },
   "file_extension": ".py",
   "mimetype": "text/x-python",
   "name": "python",
   "nbconvert_exporter": "python",
   "pygments_lexer": "ipython3",
   "version": "3.10.12"
  },
  "papermill": {
   "default_parameters": {},
   "duration": 260.056326,
   "end_time": "2025-01-13T00:47:53.225620",
   "environment_variables": {},
   "exception": null,
   "input_path": "__notebook__.ipynb",
   "output_path": "__notebook__.ipynb",
   "parameters": {},
   "start_time": "2025-01-13T00:43:33.169294",
   "version": "2.6.0"
  }
 },
 "nbformat": 4,
 "nbformat_minor": 5
}
